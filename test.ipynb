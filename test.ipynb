{
 "cells": [
  {
   "cell_type": "code",
   "execution_count": 2,
   "metadata": {},
   "outputs": [
    {
     "name": "stdout",
     "output_type": "stream",
     "text": [
      "img_name:  D:\\Download\\Tu_Lieu\\Cao_Hoc\\Ky_3\\Multimedia\\FinalExam\\manga_read_along\\manga-colorization-v2-custom\\colorizator\n",
      "img_ext:  .png\n",
      "Image\n"
     ]
    },
    {
     "name": "stderr",
     "output_type": "stream",
     "text": [
      "<>:3: SyntaxWarning: invalid escape sequence '\\D'\n",
      "<>:3: SyntaxWarning: invalid escape sequence '\\D'\n",
      "C:\\Users\\Barney\\AppData\\Local\\Temp\\ipykernel_11100\\2649671494.py:3: SyntaxWarning: invalid escape sequence '\\D'\n",
      "  image_name_ext = \"D:\\Download\\Tu_Lieu\\Cao_Hoc\\Ky_3\\Multimedia\\FinalExam\\manga_read_along\\manga-colorization-v2-custom\\colorizator.png\"\n"
     ]
    }
   ],
   "source": [
    "import os\n",
    "\n",
    "image_name_ext = \"D:\\Download\\Tu_Lieu\\Cao_Hoc\\Ky_3\\Multimedia\\FinalExam\\manga_read_along\\manga-colorization-v2-custom\\colorizator.png\"\n",
    "img_name, img_ext = os.path.splitext(image_name_ext)\n",
    "print(\"img_name: \", img_name)\n",
    "print(\"img_ext: \", img_ext)\n",
    "image_extensions = ['.jpg', '.jpeg', '.png', '.gif', '.bmp', '.tiff']\n",
    "if img_ext in image_extensions:\n",
    "    print(\"Image\")"
   ]
  }
 ],
 "metadata": {
  "kernelspec": {
   "display_name": "multimedia",
   "language": "python",
   "name": "python3"
  },
  "language_info": {
   "codemirror_mode": {
    "name": "ipython",
    "version": 3
   },
   "file_extension": ".py",
   "mimetype": "text/x-python",
   "name": "python",
   "nbconvert_exporter": "python",
   "pygments_lexer": "ipython3",
   "version": "3.12.7"
  }
 },
 "nbformat": 4,
 "nbformat_minor": 2
}
